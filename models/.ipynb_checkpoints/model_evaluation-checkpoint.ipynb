{
 "cells": [
  {
   "cell_type": "code",
   "execution_count": 1,
   "metadata": {},
   "outputs": [],
   "source": [
    "import pickle \n",
    "import numpy as np\n",
    "import pandas as pd\n",
    "import matplotlib.pyplot as plt\n",
    "import seaborn as sns\n",
    "from sklearn import metrics\n",
    "from sklearn.model_selection import TimeSeriesSplit\n",
    "from sklearn.linear_model import LinearRegression, LogisticRegression\n",
    "from sklearn.metrics import confusion_matrix\n",
    "from sklearn.metrics import classification_report"
   ]
  },
  {
   "cell_type": "code",
   "execution_count": 2,
   "metadata": {
    "scrolled": true
   },
   "outputs": [
    {
     "name": "stderr",
     "output_type": "stream",
     "text": [
      "c:\\users\\zorian\\appdata\\local\\programs\\python\\python37\\lib\\site-packages\\sklearn\\base.py:315: UserWarning: Trying to unpickle estimator LogisticRegression from version 1.4.1.post1 when using version 0.24.1. This might lead to breaking code or invalid results. Use at your own risk.\n",
      "  UserWarning)\n"
     ]
    }
   ],
   "source": [
    "with open(\"LR.pkl\", 'rb') as m: \n",
    "    logistic = pickle.load(m)"
   ]
  },
  {
   "cell_type": "code",
   "execution_count": 3,
   "metadata": {},
   "outputs": [
    {
     "name": "stderr",
     "output_type": "stream",
     "text": [
      "c:\\users\\zorian\\appdata\\local\\programs\\python\\python37\\lib\\site-packages\\sklearn\\base.py:315: UserWarning: Trying to unpickle estimator LinearRegression from version 1.4.1.post1 when using version 0.24.1. This might lead to breaking code or invalid results. Use at your own risk.\n",
      "  UserWarning)\n"
     ]
    }
   ],
   "source": [
    "with open(\"Lin_R.pkl\", 'rb') as m: \n",
    "    lr = pickle.load(m)"
   ]
  },
  {
   "cell_type": "code",
   "execution_count": 4,
   "metadata": {},
   "outputs": [
    {
     "data": {
      "text/html": [
       "<div>\n",
       "<style scoped>\n",
       "    .dataframe tbody tr th:only-of-type {\n",
       "        vertical-align: middle;\n",
       "    }\n",
       "\n",
       "    .dataframe tbody tr th {\n",
       "        vertical-align: top;\n",
       "    }\n",
       "\n",
       "    .dataframe thead th {\n",
       "        text-align: right;\n",
       "    }\n",
       "</style>\n",
       "<table border=\"1\" class=\"dataframe\">\n",
       "  <thead>\n",
       "    <tr style=\"text-align: right;\">\n",
       "      <th></th>\n",
       "      <th>region_city_x</th>\n",
       "      <th>day_datetime</th>\n",
       "      <th>day_tempmax</th>\n",
       "      <th>day_tempmin</th>\n",
       "      <th>day_temp</th>\n",
       "      <th>day_dew</th>\n",
       "      <th>day_humidity</th>\n",
       "      <th>day_precip</th>\n",
       "      <th>day_precipcover</th>\n",
       "      <th>day_solarradiation</th>\n",
       "      <th>...</th>\n",
       "      <th>328</th>\n",
       "      <th>329</th>\n",
       "      <th>330</th>\n",
       "      <th>331</th>\n",
       "      <th>332</th>\n",
       "      <th>333</th>\n",
       "      <th>334</th>\n",
       "      <th>335</th>\n",
       "      <th>date</th>\n",
       "      <th>last_day_alarms</th>\n",
       "    </tr>\n",
       "  </thead>\n",
       "  <tbody>\n",
       "    <tr>\n",
       "      <th>0</th>\n",
       "      <td>Луцьк</td>\n",
       "      <td>2022-02-24</td>\n",
       "      <td>4.9</td>\n",
       "      <td>0.7</td>\n",
       "      <td>2.6</td>\n",
       "      <td>0.0</td>\n",
       "      <td>83.7</td>\n",
       "      <td>0.118</td>\n",
       "      <td>4.17</td>\n",
       "      <td>36.9</td>\n",
       "      <td>...</td>\n",
       "      <td>0.000836</td>\n",
       "      <td>0.005182</td>\n",
       "      <td>0.00826</td>\n",
       "      <td>0.008076</td>\n",
       "      <td>0.009353</td>\n",
       "      <td>-0.010989</td>\n",
       "      <td>-0.010359</td>\n",
       "      <td>2.190033e-16</td>\n",
       "      <td>2022-02-24</td>\n",
       "      <td>0.0</td>\n",
       "    </tr>\n",
       "    <tr>\n",
       "      <th>1</th>\n",
       "      <td>Луцьк</td>\n",
       "      <td>2022-02-24</td>\n",
       "      <td>4.9</td>\n",
       "      <td>0.7</td>\n",
       "      <td>2.6</td>\n",
       "      <td>0.0</td>\n",
       "      <td>83.7</td>\n",
       "      <td>0.118</td>\n",
       "      <td>4.17</td>\n",
       "      <td>36.9</td>\n",
       "      <td>...</td>\n",
       "      <td>0.000836</td>\n",
       "      <td>0.005182</td>\n",
       "      <td>0.00826</td>\n",
       "      <td>0.008076</td>\n",
       "      <td>0.009353</td>\n",
       "      <td>-0.010989</td>\n",
       "      <td>-0.010359</td>\n",
       "      <td>2.190033e-16</td>\n",
       "      <td>2022-02-24</td>\n",
       "      <td>0.0</td>\n",
       "    </tr>\n",
       "    <tr>\n",
       "      <th>2</th>\n",
       "      <td>Луцьк</td>\n",
       "      <td>2022-02-24</td>\n",
       "      <td>4.9</td>\n",
       "      <td>0.7</td>\n",
       "      <td>2.6</td>\n",
       "      <td>0.0</td>\n",
       "      <td>83.7</td>\n",
       "      <td>0.118</td>\n",
       "      <td>4.17</td>\n",
       "      <td>36.9</td>\n",
       "      <td>...</td>\n",
       "      <td>0.000836</td>\n",
       "      <td>0.005182</td>\n",
       "      <td>0.00826</td>\n",
       "      <td>0.008076</td>\n",
       "      <td>0.009353</td>\n",
       "      <td>-0.010989</td>\n",
       "      <td>-0.010359</td>\n",
       "      <td>2.190033e-16</td>\n",
       "      <td>2022-02-24</td>\n",
       "      <td>0.0</td>\n",
       "    </tr>\n",
       "    <tr>\n",
       "      <th>3</th>\n",
       "      <td>Луцьк</td>\n",
       "      <td>2022-02-24</td>\n",
       "      <td>4.9</td>\n",
       "      <td>0.7</td>\n",
       "      <td>2.6</td>\n",
       "      <td>0.0</td>\n",
       "      <td>83.7</td>\n",
       "      <td>0.118</td>\n",
       "      <td>4.17</td>\n",
       "      <td>36.9</td>\n",
       "      <td>...</td>\n",
       "      <td>0.000836</td>\n",
       "      <td>0.005182</td>\n",
       "      <td>0.00826</td>\n",
       "      <td>0.008076</td>\n",
       "      <td>0.009353</td>\n",
       "      <td>-0.010989</td>\n",
       "      <td>-0.010359</td>\n",
       "      <td>2.190033e-16</td>\n",
       "      <td>2022-02-24</td>\n",
       "      <td>0.0</td>\n",
       "    </tr>\n",
       "    <tr>\n",
       "      <th>4</th>\n",
       "      <td>Луцьк</td>\n",
       "      <td>2022-02-24</td>\n",
       "      <td>4.9</td>\n",
       "      <td>0.7</td>\n",
       "      <td>2.6</td>\n",
       "      <td>0.0</td>\n",
       "      <td>83.7</td>\n",
       "      <td>0.118</td>\n",
       "      <td>4.17</td>\n",
       "      <td>36.9</td>\n",
       "      <td>...</td>\n",
       "      <td>0.000836</td>\n",
       "      <td>0.005182</td>\n",
       "      <td>0.00826</td>\n",
       "      <td>0.008076</td>\n",
       "      <td>0.009353</td>\n",
       "      <td>-0.010989</td>\n",
       "      <td>-0.010359</td>\n",
       "      <td>2.190033e-16</td>\n",
       "      <td>2022-02-24</td>\n",
       "      <td>0.0</td>\n",
       "    </tr>\n",
       "  </tbody>\n",
       "</table>\n",
       "<p>5 rows × 366 columns</p>\n",
       "</div>"
      ],
      "text/plain": [
       "  region_city_x day_datetime  day_tempmax  day_tempmin  day_temp  day_dew  \\\n",
       "0         Луцьк   2022-02-24          4.9          0.7       2.6      0.0   \n",
       "1         Луцьк   2022-02-24          4.9          0.7       2.6      0.0   \n",
       "2         Луцьк   2022-02-24          4.9          0.7       2.6      0.0   \n",
       "3         Луцьк   2022-02-24          4.9          0.7       2.6      0.0   \n",
       "4         Луцьк   2022-02-24          4.9          0.7       2.6      0.0   \n",
       "\n",
       "   day_humidity  day_precip  day_precipcover  day_solarradiation  ...  \\\n",
       "0          83.7       0.118             4.17                36.9  ...   \n",
       "1          83.7       0.118             4.17                36.9  ...   \n",
       "2          83.7       0.118             4.17                36.9  ...   \n",
       "3          83.7       0.118             4.17                36.9  ...   \n",
       "4          83.7       0.118             4.17                36.9  ...   \n",
       "\n",
       "        328       329      330       331       332       333       334  \\\n",
       "0  0.000836  0.005182  0.00826  0.008076  0.009353 -0.010989 -0.010359   \n",
       "1  0.000836  0.005182  0.00826  0.008076  0.009353 -0.010989 -0.010359   \n",
       "2  0.000836  0.005182  0.00826  0.008076  0.009353 -0.010989 -0.010359   \n",
       "3  0.000836  0.005182  0.00826  0.008076  0.009353 -0.010989 -0.010359   \n",
       "4  0.000836  0.005182  0.00826  0.008076  0.009353 -0.010989 -0.010359   \n",
       "\n",
       "            335        date  last_day_alarms  \n",
       "0  2.190033e-16  2022-02-24              0.0  \n",
       "1  2.190033e-16  2022-02-24              0.0  \n",
       "2  2.190033e-16  2022-02-24              0.0  \n",
       "3  2.190033e-16  2022-02-24              0.0  \n",
       "4  2.190033e-16  2022-02-24              0.0  \n",
       "\n",
       "[5 rows x 366 columns]"
      ]
     },
     "execution_count": 4,
     "metadata": {},
     "output_type": "execute_result"
    }
   ],
   "source": [
    "data = pd.read_csv(r'..\\\\clean_data\\final_data_new.csv', index_col=0)\n",
    "data.head()"
   ]
  },
  {
   "cell_type": "code",
   "execution_count": 5,
   "metadata": {},
   "outputs": [],
   "source": [
    "data = data.drop([\"date\", \"region_city_x\", \"day_datetime\"], axis = 1)\n",
    "data.fillna(0, inplace = True)"
   ]
  },
  {
   "cell_type": "code",
   "execution_count": 6,
   "metadata": {},
   "outputs": [],
   "source": [
    "X = data.drop(\"is_alarm\", axis = 1)\n",
    "y = data[\"is_alarm\"]"
   ]
  },
  {
   "cell_type": "code",
   "execution_count": 7,
   "metadata": {},
   "outputs": [],
   "source": [
    "tss = TimeSeriesSplit(n_splits=5)\n",
    "\n",
    "for train_index, test_index in tss.split(data):\n",
    "    X_train, X_test = X.iloc[train_index], X.iloc[test_index]\n",
    "    y_train, y_test = y.iloc[train_index], y.iloc[test_index]"
   ]
  },
  {
   "cell_type": "code",
   "execution_count": 8,
   "metadata": {},
   "outputs": [],
   "source": [
    "# logistic\n",
    "# logistic = LogisticRegression()\n",
    "# logistic.fit(X_train, y_train)\n",
    "# with open(\"../models/LR.pkl\", \"wb\") as lr:\n",
    "#     pickle.dump(logistic, lr)"
   ]
  },
  {
   "cell_type": "code",
   "execution_count": 9,
   "metadata": {},
   "outputs": [],
   "source": [
    "# linear regression\n",
    "# lin_reg = LinearRegression()\n",
    "# lin_reg.fit(X_train, y_train)\n",
    "# with open(\"../models/Lin_R.pkl\", \"wb\") as lin_r:\n",
    "#     pickle.dump(lin)reg, lin_r)"
   ]
  },
  {
   "cell_type": "code",
   "execution_count": 10,
   "metadata": {},
   "outputs": [],
   "source": [
    "def display_metrics(model, X_test, y_test):\n",
    "    y_pred = model.predict(X_test)\n",
    "    if y_pred.dtype != int:\n",
    "        func = np.vectorize(lambda elem: 0 if elem < 0.5 else 1)\n",
    "        y_pred = func(y_pred)\n",
    "    cm_list =  confusion_matrix(y_test, y_pred)\n",
    "    fig = plt.figure()\n",
    "    cm_plot = sns.heatmap(cm_list, annot=True, cmap=\"viridis\", fmt=\".10g\")\n",
    "    cm_plot.set_xlabel(\"Predicted values\")\n",
    "    cm_plot.set_ylabel(\"Actual values\")\n",
    "    plt.show()\n",
    "\n",
    "#     fig = cm_plot.get_figure()\n",
    "#     fig.savefig(\"your_file_name.png\")\n",
    "    \n",
    "    report = classification_report(y_test, y_pred, target_names=[\"Actual\", \"Pred\"])\n",
    "    print(report)"
   ]
  },
  {
   "cell_type": "markdown",
   "metadata": {},
   "source": [
    "### Logistic regression"
   ]
  },
  {
   "cell_type": "code",
   "execution_count": 11,
   "metadata": {},
   "outputs": [
    {
     "data": {
      "image/png": "[encoded data removed]",
      "text/plain": [
       "<Figure size 640x480 with 2 Axes>"
      ]
     },
     "metadata": {},
     "output_type": "display_data"
    },
    {
     "name": "stdout",
     "output_type": "stream",
     "text": [
      "              precision    recall  f1-score   support\n",
      "\n",
      "      Actual       0.82      0.98      0.89     25733\n",
      "        Pred       0.69      0.19      0.29      6687\n",
      "\n",
      "    accuracy                           0.81     32420\n",
      "   macro avg       0.75      0.58      0.59     32420\n",
      "weighted avg       0.79      0.81      0.77     32420\n",
      "\n"
     ]
    }
   ],
   "source": [
    "display_metrics(logistic, X_test, y_test)"
   ]
  },
  {
   "cell_type": "markdown",
   "metadata": {},
   "source": [
    "### Linear regression"
   ]
  },
  {
   "cell_type": "code",
   "execution_count": 12,
   "metadata": {},
   "outputs": [
    {
     "data": {
      "image/png": "[encoded data removed]",
      "text/plain": [
       "<Figure size 640x480 with 2 Axes>"
      ]
     },
     "metadata": {},
     "output_type": "display_data"
    },
    {
     "name": "stdout",
     "output_type": "stream",
     "text": [
      "              precision    recall  f1-score   support\n",
      "\n",
      "      Actual       0.81      0.99      0.89     25733\n",
      "        Pred       0.73      0.09      0.16      6687\n",
      "\n",
      "    accuracy                           0.81     32420\n",
      "   macro avg       0.77      0.54      0.52     32420\n",
      "weighted avg       0.79      0.81      0.74     32420\n",
      "\n"
     ]
    }
   ],
   "source": [
    "display_metrics(lr, X_test, y_test)"
   ]
  },
  {
   "cell_type": "code",
   "execution_count": null,
   "metadata": {},
   "outputs": [],
   "source": [
    "\n"
   ]
  }
 ],
 "metadata": {
  "kernelspec": {
   "display_name": "Python 3 (ipykernel)",
   "language": "python",
   "name": "python3"
  },
  "language_info": {
   "codemirror_mode": {
    "name": "ipython",
    "version": 3
   },
   "file_extension": ".py",
   "mimetype": "text/x-python",
   "name": "python",
   "nbconvert_exporter": "python",
   "pygments_lexer": "ipython3",
   "version": "3.7.4"
  }
 },
 "nbformat": 4,
 "nbformat_minor": 1
}
