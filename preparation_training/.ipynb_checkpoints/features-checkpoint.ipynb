{
 "cells": [
  {
   "cell_type": "code",
   "execution_count": 75,
   "metadata": {},
   "outputs": [],
   "source": [
    "import pandas as pd "
   ]
  },
  {
   "cell_type": "markdown",
   "metadata": {},
   "source": [
    "### Feature engineering"
   ]
  },
  {
   "cell_type": "markdown",
   "metadata": {},
   "source": [
    "Features:\n",
    "1) Amount of alarms for last day by regions.\n",
    "2) Amount of alarms for last 12 hours by regions.\n",
    "3) Amount of alarms for last 6 hours by regions.\n",
    "4) Amount of alarms for last 3 hours by regions.\n",
    "5) Amount of alarms for last hour by regions."
   ]
  },
  {
   "cell_type": "code",
   "execution_count": 76,
   "metadata": {},
   "outputs": [],
   "source": [
    "data = pd.read_csv(r\"..\\clean_data\\final_data.csv\")"
   ]
  },
  {
   "cell_type": "code",
   "execution_count": 77,
   "metadata": {},
   "outputs": [],
   "source": [
    "data = data.drop(\"Unnamed: 0\", axis=1)"
   ]
  },
  {
   "cell_type": "code",
   "execution_count": 78,
   "metadata": {},
   "outputs": [
    {
     "data": {
      "text/html": [
       "<div>\n",
       "<style scoped>\n",
       "    .dataframe tbody tr th:only-of-type {\n",
       "        vertical-align: middle;\n",
       "    }\n",
       "\n",
       "    .dataframe tbody tr th {\n",
       "        vertical-align: top;\n",
       "    }\n",
       "\n",
       "    .dataframe thead th {\n",
       "        text-align: right;\n",
       "    }\n",
       "</style>\n",
       "<table border=\"1\" class=\"dataframe\">\n",
       "  <thead>\n",
       "    <tr style=\"text-align: right;\">\n",
       "      <th></th>\n",
       "      <th>region_city_x</th>\n",
       "      <th>hour_datetimeEpoch</th>\n",
       "      <th>day_datetime</th>\n",
       "      <th>day_tempmax</th>\n",
       "      <th>day_tempmin</th>\n",
       "      <th>day_temp</th>\n",
       "      <th>day_dew</th>\n",
       "      <th>day_humidity</th>\n",
       "      <th>day_precip</th>\n",
       "      <th>day_precipcover</th>\n",
       "      <th>...</th>\n",
       "      <th>327</th>\n",
       "      <th>328</th>\n",
       "      <th>329</th>\n",
       "      <th>330</th>\n",
       "      <th>331</th>\n",
       "      <th>332</th>\n",
       "      <th>333</th>\n",
       "      <th>334</th>\n",
       "      <th>335</th>\n",
       "      <th>date</th>\n",
       "    </tr>\n",
       "  </thead>\n",
       "  <tbody>\n",
       "    <tr>\n",
       "      <th>0</th>\n",
       "      <td>Луцьк</td>\n",
       "      <td>1645653600</td>\n",
       "      <td>2022-02-24</td>\n",
       "      <td>4.9</td>\n",
       "      <td>0.7</td>\n",
       "      <td>2.6</td>\n",
       "      <td>0.0</td>\n",
       "      <td>83.7</td>\n",
       "      <td>0.118</td>\n",
       "      <td>4.17</td>\n",
       "      <td>...</td>\n",
       "      <td>0.00075</td>\n",
       "      <td>0.000516</td>\n",
       "      <td>0.007649</td>\n",
       "      <td>0.003805</td>\n",
       "      <td>0.00783</td>\n",
       "      <td>0.009322</td>\n",
       "      <td>-0.011622</td>\n",
       "      <td>-0.011459</td>\n",
       "      <td>4.569509e-15</td>\n",
       "      <td>2022-02-24</td>\n",
       "    </tr>\n",
       "    <tr>\n",
       "      <th>1</th>\n",
       "      <td>Луцьк</td>\n",
       "      <td>1645657200</td>\n",
       "      <td>2022-02-24</td>\n",
       "      <td>4.9</td>\n",
       "      <td>0.7</td>\n",
       "      <td>2.6</td>\n",
       "      <td>0.0</td>\n",
       "      <td>83.7</td>\n",
       "      <td>0.118</td>\n",
       "      <td>4.17</td>\n",
       "      <td>...</td>\n",
       "      <td>0.00075</td>\n",
       "      <td>0.000516</td>\n",
       "      <td>0.007649</td>\n",
       "      <td>0.003805</td>\n",
       "      <td>0.00783</td>\n",
       "      <td>0.009322</td>\n",
       "      <td>-0.011622</td>\n",
       "      <td>-0.011459</td>\n",
       "      <td>4.569509e-15</td>\n",
       "      <td>2022-02-24</td>\n",
       "    </tr>\n",
       "    <tr>\n",
       "      <th>2</th>\n",
       "      <td>Луцьк</td>\n",
       "      <td>1645660800</td>\n",
       "      <td>2022-02-24</td>\n",
       "      <td>4.9</td>\n",
       "      <td>0.7</td>\n",
       "      <td>2.6</td>\n",
       "      <td>0.0</td>\n",
       "      <td>83.7</td>\n",
       "      <td>0.118</td>\n",
       "      <td>4.17</td>\n",
       "      <td>...</td>\n",
       "      <td>0.00075</td>\n",
       "      <td>0.000516</td>\n",
       "      <td>0.007649</td>\n",
       "      <td>0.003805</td>\n",
       "      <td>0.00783</td>\n",
       "      <td>0.009322</td>\n",
       "      <td>-0.011622</td>\n",
       "      <td>-0.011459</td>\n",
       "      <td>4.569509e-15</td>\n",
       "      <td>2022-02-24</td>\n",
       "    </tr>\n",
       "    <tr>\n",
       "      <th>3</th>\n",
       "      <td>Луцьк</td>\n",
       "      <td>1645664400</td>\n",
       "      <td>2022-02-24</td>\n",
       "      <td>4.9</td>\n",
       "      <td>0.7</td>\n",
       "      <td>2.6</td>\n",
       "      <td>0.0</td>\n",
       "      <td>83.7</td>\n",
       "      <td>0.118</td>\n",
       "      <td>4.17</td>\n",
       "      <td>...</td>\n",
       "      <td>0.00075</td>\n",
       "      <td>0.000516</td>\n",
       "      <td>0.007649</td>\n",
       "      <td>0.003805</td>\n",
       "      <td>0.00783</td>\n",
       "      <td>0.009322</td>\n",
       "      <td>-0.011622</td>\n",
       "      <td>-0.011459</td>\n",
       "      <td>4.569509e-15</td>\n",
       "      <td>2022-02-24</td>\n",
       "    </tr>\n",
       "    <tr>\n",
       "      <th>4</th>\n",
       "      <td>Луцьк</td>\n",
       "      <td>1645668000</td>\n",
       "      <td>2022-02-24</td>\n",
       "      <td>4.9</td>\n",
       "      <td>0.7</td>\n",
       "      <td>2.6</td>\n",
       "      <td>0.0</td>\n",
       "      <td>83.7</td>\n",
       "      <td>0.118</td>\n",
       "      <td>4.17</td>\n",
       "      <td>...</td>\n",
       "      <td>0.00075</td>\n",
       "      <td>0.000516</td>\n",
       "      <td>0.007649</td>\n",
       "      <td>0.003805</td>\n",
       "      <td>0.00783</td>\n",
       "      <td>0.009322</td>\n",
       "      <td>-0.011622</td>\n",
       "      <td>-0.011459</td>\n",
       "      <td>4.569509e-15</td>\n",
       "      <td>2022-02-24</td>\n",
       "    </tr>\n",
       "  </tbody>\n",
       "</table>\n",
       "<p>5 rows × 366 columns</p>\n",
       "</div>"
      ],
      "text/plain": [
       "  region_city_x  hour_datetimeEpoch day_datetime  day_tempmax  day_tempmin  \\\n",
       "0         Луцьк          1645653600   2022-02-24          4.9          0.7   \n",
       "1         Луцьк          1645657200   2022-02-24          4.9          0.7   \n",
       "2         Луцьк          1645660800   2022-02-24          4.9          0.7   \n",
       "3         Луцьк          1645664400   2022-02-24          4.9          0.7   \n",
       "4         Луцьк          1645668000   2022-02-24          4.9          0.7   \n",
       "\n",
       "   day_temp  day_dew  day_humidity  day_precip  day_precipcover  ...      327  \\\n",
       "0       2.6      0.0          83.7       0.118             4.17  ...  0.00075   \n",
       "1       2.6      0.0          83.7       0.118             4.17  ...  0.00075   \n",
       "2       2.6      0.0          83.7       0.118             4.17  ...  0.00075   \n",
       "3       2.6      0.0          83.7       0.118             4.17  ...  0.00075   \n",
       "4       2.6      0.0          83.7       0.118             4.17  ...  0.00075   \n",
       "\n",
       "        328       329       330      331       332       333       334  \\\n",
       "0  0.000516  0.007649  0.003805  0.00783  0.009322 -0.011622 -0.011459   \n",
       "1  0.000516  0.007649  0.003805  0.00783  0.009322 -0.011622 -0.011459   \n",
       "2  0.000516  0.007649  0.003805  0.00783  0.009322 -0.011622 -0.011459   \n",
       "3  0.000516  0.007649  0.003805  0.00783  0.009322 -0.011622 -0.011459   \n",
       "4  0.000516  0.007649  0.003805  0.00783  0.009322 -0.011622 -0.011459   \n",
       "\n",
       "            335        date  \n",
       "0  4.569509e-15  2022-02-24  \n",
       "1  4.569509e-15  2022-02-24  \n",
       "2  4.569509e-15  2022-02-24  \n",
       "3  4.569509e-15  2022-02-24  \n",
       "4  4.569509e-15  2022-02-24  \n",
       "\n",
       "[5 rows x 366 columns]"
      ]
     },
     "execution_count": 78,
     "metadata": {},
     "output_type": "execute_result"
    }
   ],
   "source": [
    "data.head()"
   ]
  },
  {
   "cell_type": "code",
   "execution_count": 79,
   "metadata": {},
   "outputs": [],
   "source": [
    "data[\"hour_datetime\"] = pd.to_datetime(data[\"hour_datetimeEpoch\"], unit=\"s\")"
   ]
  },
  {
   "cell_type": "code",
   "execution_count": 80,
   "metadata": {},
   "outputs": [],
   "source": [
    "df_features = data[[\"region_city_x\", \"hour_datetimeEpoch\", \"is_alarm\"]]\n",
    "df_features = df_features.set_index(\"hour_datetimeEpoch\")\n",
    "df_features.index = pd.to_datetime(df_features.index, unit=\"s\")"
   ]
  },
  {
   "cell_type": "code",
   "execution_count": 81,
   "metadata": {},
   "outputs": [
    {
     "data": {
      "text/html": [
       "<div>\n",
       "<style scoped>\n",
       "    .dataframe tbody tr th:only-of-type {\n",
       "        vertical-align: middle;\n",
       "    }\n",
       "\n",
       "    .dataframe tbody tr th {\n",
       "        vertical-align: top;\n",
       "    }\n",
       "\n",
       "    .dataframe thead th {\n",
       "        text-align: right;\n",
       "    }\n",
       "</style>\n",
       "<table border=\"1\" class=\"dataframe\">\n",
       "  <thead>\n",
       "    <tr style=\"text-align: right;\">\n",
       "      <th></th>\n",
       "      <th>region_city_x</th>\n",
       "      <th>is_alarm</th>\n",
       "    </tr>\n",
       "    <tr>\n",
       "      <th>hour_datetimeEpoch</th>\n",
       "      <th></th>\n",
       "      <th></th>\n",
       "    </tr>\n",
       "  </thead>\n",
       "  <tbody>\n",
       "    <tr>\n",
       "      <th>2022-02-23 22:00:00</th>\n",
       "      <td>Луцьк</td>\n",
       "      <td>0</td>\n",
       "    </tr>\n",
       "    <tr>\n",
       "      <th>2022-02-23 23:00:00</th>\n",
       "      <td>Луцьк</td>\n",
       "      <td>0</td>\n",
       "    </tr>\n",
       "    <tr>\n",
       "      <th>2022-02-24 00:00:00</th>\n",
       "      <td>Луцьк</td>\n",
       "      <td>0</td>\n",
       "    </tr>\n",
       "  </tbody>\n",
       "</table>\n",
       "</div>"
      ],
      "text/plain": [
       "                    region_city_x  is_alarm\n",
       "hour_datetimeEpoch                         \n",
       "2022-02-23 22:00:00         Луцьк         0\n",
       "2022-02-23 23:00:00         Луцьк         0\n",
       "2022-02-24 00:00:00         Луцьк         0"
      ]
     },
     "execution_count": 81,
     "metadata": {},
     "output_type": "execute_result"
    }
   ],
   "source": [
    "df_features.head(3)"
   ]
  },
  {
   "cell_type": "code",
   "execution_count": 82,
   "metadata": {},
   "outputs": [],
   "source": [
    "def alarms_amount_for_last(df, time_delta, feature_name):\n",
    "    df_grouped = df.groupby(\"region_city_x\").resample(time_delta).sum().reset_index()\n",
    "    df_grouped_final = df_grouped.set_index(\"hour_datetimeEpoch\").groupby(\"region_city_x\").shift(1).reset_index()\n",
    "    df_grouped_final[\"region_city_x\"] = df_grouped[\"region_city_x\"]\n",
    "    df_grouped_final.dropna(inplace=True)\n",
    "    df_grouped_final.rename(columns={\"is_alarm\": feature_name, \n",
    "                                     \"hour_datetimeEpoch\": \"hour_datetime\"}, inplace=True)\n",
    "    return df_grouped_final"
   ]
  },
  {
   "cell_type": "code",
   "execution_count": 83,
   "metadata": {},
   "outputs": [],
   "source": [
    "lda = alarms_amount_for_last(df_features, \"d\", \"last_day_alarms\")\n",
    "la_12h = alarms_amount_for_last(df_features, \"12H\", \"last_12H_alarms\")\n",
    "la_6h = alarms_amount_for_last(df_features, \"6H\", \"last_6H_alarms\")\n",
    "la_3h = alarms_amount_for_last(df_features, \"3H\", \"last_3H_alarms\")\n",
    "la_1h = alarms_amount_for_last(df_features, \"1H\", \"last_1H_alarms\")"
   ]
  },
  {
   "cell_type": "code",
   "execution_count": 84,
   "metadata": {},
   "outputs": [
    {
     "data": {
      "text/html": [
       "<div>\n",
       "<style scoped>\n",
       "    .dataframe tbody tr th:only-of-type {\n",
       "        vertical-align: middle;\n",
       "    }\n",
       "\n",
       "    .dataframe tbody tr th {\n",
       "        vertical-align: top;\n",
       "    }\n",
       "\n",
       "    .dataframe thead th {\n",
       "        text-align: right;\n",
       "    }\n",
       "</style>\n",
       "<table border=\"1\" class=\"dataframe\">\n",
       "  <thead>\n",
       "    <tr style=\"text-align: right;\">\n",
       "      <th></th>\n",
       "      <th>hour_datetime</th>\n",
       "      <th>last_day_alarms</th>\n",
       "      <th>region_city_x</th>\n",
       "    </tr>\n",
       "  </thead>\n",
       "  <tbody>\n",
       "    <tr>\n",
       "      <th>1</th>\n",
       "      <td>2022-02-24</td>\n",
       "      <td>0.0</td>\n",
       "      <td>Івано-Франківськ</td>\n",
       "    </tr>\n",
       "    <tr>\n",
       "      <th>2</th>\n",
       "      <td>2022-02-25</td>\n",
       "      <td>0.0</td>\n",
       "      <td>Івано-Франківськ</td>\n",
       "    </tr>\n",
       "    <tr>\n",
       "      <th>3</th>\n",
       "      <td>2022-02-26</td>\n",
       "      <td>0.0</td>\n",
       "      <td>Івано-Франківськ</td>\n",
       "    </tr>\n",
       "    <tr>\n",
       "      <th>4</th>\n",
       "      <td>2022-02-27</td>\n",
       "      <td>0.0</td>\n",
       "      <td>Івано-Франківськ</td>\n",
       "    </tr>\n",
       "    <tr>\n",
       "      <th>5</th>\n",
       "      <td>2022-02-28</td>\n",
       "      <td>0.0</td>\n",
       "      <td>Івано-Франківськ</td>\n",
       "    </tr>\n",
       "  </tbody>\n",
       "</table>\n",
       "</div>"
      ],
      "text/plain": [
       "  hour_datetime  last_day_alarms     region_city_x\n",
       "1    2022-02-24              0.0  Івано-Франківськ\n",
       "2    2022-02-25              0.0  Івано-Франківськ\n",
       "3    2022-02-26              0.0  Івано-Франківськ\n",
       "4    2022-02-27              0.0  Івано-Франківськ\n",
       "5    2022-02-28              0.0  Івано-Франківськ"
      ]
     },
     "execution_count": 84,
     "metadata": {},
     "output_type": "execute_result"
    }
   ],
   "source": [
    "lda.head()"
   ]
  },
  {
   "cell_type": "markdown",
   "metadata": {},
   "source": [
    "### Merge datasets and convert categorical columns to dummies"
   ]
  },
  {
   "cell_type": "code",
   "execution_count": 85,
   "metadata": {},
   "outputs": [],
   "source": [
    "def merge_datasets_by(to_data, merge_data, on, how=\"left\"):\n",
    "    result_data = to_data.copy()\n",
    "    for feature in merge_data:\n",
    "        result_data = result_data.merge(feature, how=how, on=on)\n",
    "    return result_data"
   ]
  },
  {
   "cell_type": "code",
   "execution_count": 86,
   "metadata": {},
   "outputs": [],
   "source": [
    "features = [lda, la_12h, la_6h, la_3h, la_1h]\n",
    "final_data = merge_datasets_by(data, features, [\"hour_datetime\", \"region_city_x\"])\n",
    "final_data = pd.get_dummies(final_data, columns=['region_city_x'], prefix=\"\", prefix_sep=\"\")\n",
    "final_data.set_index(\"hour_datetimeEpoch\", inplace=True)"
   ]
  },
  {
   "cell_type": "code",
   "execution_count": 87,
   "metadata": {},
   "outputs": [],
   "source": [
    "final_data.to_csv(r\"..\\clean_data\\final_data_v2.csv\")"
   ]
  }
 ],
 "metadata": {
  "kernelspec": {
   "display_name": "Python 3 (ipykernel)",
   "language": "python",
   "name": "python3"
  },
  "language_info": {
   "codemirror_mode": {
    "name": "ipython",
    "version": 3
   },
   "file_extension": ".py",
   "mimetype": "text/x-python",
   "name": "python",
   "nbconvert_exporter": "python",
   "pygments_lexer": "ipython3",
   "version": "3.7.4"
  }
 },
 "nbformat": 4,
 "nbformat_minor": 1
}
