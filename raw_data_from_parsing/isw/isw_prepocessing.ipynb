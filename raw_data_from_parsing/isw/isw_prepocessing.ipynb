{
 "cells": [
  {
   "cell_type": "code",
   "execution_count": 1,
   "id": "54554020-2fd9-4906-afe6-8221bd91be42",
   "metadata": {},
   "outputs": [],
   "source": [
    "import csv\n",
    "import pandas as pd\n",
    "import re"
   ]
  },
  {
   "cell_type": "code",
   "execution_count": 2,
   "id": "d4dbb327-7fd6-4060-8249-16ffd86dc8af",
   "metadata": {},
   "outputs": [],
   "source": [
    "sw = pd.read_csv('isw.csv')"
   ]
  },
  {
   "cell_type": "code",
   "execution_count": 3,
   "id": "d95d9c39-c87a-44a2-a31e-805137bacf69",
   "metadata": {},
   "outputs": [],
   "source": [
    "sw.rename(columns={'col0': 'date', 'col1': 'title', 'col2': 'url', 'col3': 'html', 'col4': 'main_text'}, inplace=True)"
   ]
  },
  {
   "cell_type": "code",
   "execution_count": 4,
   "id": "e4de3786-fa5a-4873-8f14-8b85400f043a",
   "metadata": {},
   "outputs": [],
   "source": [
    "#convert all the data in the column \"main_text\" to str\n",
    "sw['main_text'] = sw['main_text'].astype(str)"
   ]
  },
  {
   "cell_type": "code",
   "execution_count": 5,
   "id": "7d868b92-9702-4ef9-8782-4ca5d49c293e",
   "metadata": {},
   "outputs": [],
   "source": [
    "#remove authors\n",
    "texts_auth = [\n",
    "    \"\\r\\nMason Clark, George Barros, and Kateryna Stepanenko\",\n",
    "    \"Karolina Hird, Kateryna Stepanenko, and Mason Clark\",\n",
    "    \"Frederick W. Kagan\",\n",
    "    \"Kateryna Stepanenko and Frederick W. Kagan\\r\\nOctober 9, 9:35 pm ET\\r\\n\",\n",
    "    \"\\r\\n\\r\\nKarolina Hird, Grace Mappes, George Barros, Katherine Lawlor, and Mason Clark\"\n",
    "]\n",
    "\n",
    "for text in texts_auth:\n",
    "    sw['main_text'] = sw['main_text'].str.replace(text, '')"
   ]
  },
  {
   "cell_type": "code",
   "execution_count": 6,
   "id": "28b10d4e-3dac-4216-aa09-ccafeb7f5773",
   "metadata": {},
   "outputs": [],
   "source": [
    "#remove the dates\n",
    "date_pattern = r'\\b(?:January|February|March|April|May|June|July|August|September|October|November|December)\\s+\\d{1,2},\\s+(?:\\d{1,2}:\\d{2}\\s*(?:AM|PM|am|pm)?\\s*(?:ET|EST)?|\\d+\\s*(?:AM|PM|am|pm)?\\s*(?:ET|EST)?)\\b'\n",
    "sw['main_text'] = sw['main_text'].apply(lambda x: re.sub(date_pattern, '', x).lstrip())"
   ]
  },
  {
   "cell_type": "code",
   "execution_count": 7,
   "id": "109dc0f2-9da9-497d-a4b6-8d19ff2892ad",
   "metadata": {},
   "outputs": [],
   "source": [
    "#remove symbols [1], [2], ... [n]\n",
    "unnecessary_numeration = r'\\[\\d+\\]'\n",
    "sw['main_text'] = sw['main_text'].apply(lambda x: re.sub(unnecessary_numeration, '', x))"
   ]
  },
  {
   "cell_type": "code",
   "execution_count": 8,
   "id": "59d71ecf-4e42-4858-bd04-f85693006e01",
   "metadata": {},
   "outputs": [],
   "source": [
    "#remove symbols \"\\r\\n\" and \"\\xa0\"\n",
    "sw['main_text'] = sw['main_text'].replace({'\\r\\n': ' ', '\\xa0': ' ', '\\xad': ''}, regex=True)"
   ]
  },
  {
   "cell_type": "code",
   "execution_count": 9,
   "id": "d12c2717-8ea7-4a3a-9dff-f96f24266ddd",
   "metadata": {},
   "outputs": [],
   "source": [
    "#remove unnecessary text in rows\n",
    "unwanted_text = \"We do not report in detail on Russian war crimes because those activities are well-covered in Western media and do not directly affect the military operations we are assessing and forecasting. We will continue to evaluate and report on the effects of these criminal activities on the Ukrainian military and population and specifically on combat in Ukrainian urban areas. We utterly condemn these Russian violations of the laws of armed conflict, Geneva Conventions, and humanity even though we do not describe them in these reports.\"\n",
    "\n",
    "sw['main_text'] = sw['main_text'].replace(unwanted_text, '', regex=True)"
   ]
  },
  {
   "cell_type": "code",
   "execution_count": 10,
   "id": "5a7be38b-1bc8-417e-aad5-f736b9969c04",
   "metadata": {},
   "outputs": [],
   "source": [
    "#remove \"Key Takeaways\" text\n",
    "key_text = \"Key Takeaways\"\n",
    "sw['main_text'] = sw['main_text'].replace(key_text, '', regex=True)"
   ]
  },
  {
   "cell_type": "code",
   "execution_count": 11,
   "id": "32ca49ca-2ceb-423c-9882-f95d02bbfcc8",
   "metadata": {},
   "outputs": [],
   "source": [
    "#remove unnecessary text in rows\n",
    "imm_text = \"Immediate items to watch\"\n",
    "sw['main_text'] = sw['main_text'].replace(imm_text, '', regex=True)"
   ]
  },
  {
   "cell_type": "code",
   "execution_count": 12,
   "id": "60554534-8ac8-4132-ae9f-d2f8f77af3b2",
   "metadata": {},
   "outputs": [],
   "source": [
    "#remove unnecessary text in rows\n",
    "unw_text = r'ISW is publishing an abbreviated campaign update today, (January|February|March|April|May|June|July|August|September|October|November|December) \\d{1,2}\\.'\n",
    "\n",
    "sw['main_text'] = sw['main_text'].apply(lambda x: re.sub(unw_text, '', x))"
   ]
  },
  {
   "cell_type": "code",
   "execution_count": 13,
   "id": "c2298282-f688-4c6e-90df-dc1a62eaf11f",
   "metadata": {},
   "outputs": [],
   "source": [
    "#remove unnecessary text in rows\n",
    "unwn_text = r'Note: ISW does not receive any classified material from any source, uses only publicly available information, and draws extensively on Russian, Ukrainian, and Western reporting and social media as well as commercially available satellite imagery and other geospatial data as the basis for these reports. References to all sources used are provided in the endnotes of each update.'\n",
    "\n",
    "sw['main_text'] = sw['main_text'].replace(unwn_text, '', regex=True)"
   ]
  },
  {
   "cell_type": "code",
   "execution_count": 14,
   "id": "3c0e63c4-b86b-48d6-8e4c-0a1d8ea9e4b1",
   "metadata": {},
   "outputs": [],
   "source": [
    "#remove unnecessary text in rows\n",
    "texts_unw = [\n",
    "    \"Note: ISW and CTP will not publish a campaign assessment (or maps) tomorrow, December 25, in observance of the Christmas holiday. Coverage will resume Monday, December 26.\",\n",
    "    \"Note: ISW and CTP will not publish a campaign assessment (or maps) tomorrow, January 1, in observance of the New Year\\'s Holiday. Coverage will resume on Monday, January 2.\"\n",
    "]\n",
    "\n",
    "for text in texts_unw:\n",
    "    sw['main_text'] = sw['main_text'].str.replace(text, '')"
   ]
  },
  {
   "cell_type": "code",
   "execution_count": 15,
   "id": "ca7a7db4-d498-4841-9742-c3808f4c8645",
   "metadata": {},
   "outputs": [],
   "source": [
    "#remove unnecessary text in rows\n",
    "texts_unss = [\n",
    "    \"This new section in the daily update is not in itself a forecast or assessment. It lays out the daily observed indicators we are using to refine our assessments and forecasts, which we expect to update regularly. Our assessment that the MDCOA remains unlikely has not changed.\",\n",
    "    \"We will update this header if and when the assessment changes.\",\n",
    "    \"Observed indicators for the MDCOA in the past 24 hours:\",\n",
    "    \"Observed ambiguous indicators for MDCOA in the past 24 hours:\",\n",
    "    \"Observed counter-indicators for the MDCOA in the past 24 hours:\",\n",
    "    \"We will update this header if the assessment changes.\"\n",
    "]\n",
    "\n",
    "for text in texts_unss:\n",
    "    sw['main_text'] = sw['main_text'].str.replace(text, '')"
   ]
  },
  {
   "cell_type": "code",
   "execution_count": 17,
   "id": "bb7bf6f5-727e-49e3-8b19-1d43969a0d17",
   "metadata": {},
   "outputs": [],
   "source": [
    "#remove quotation marks\n",
    "sw['main_text'] = sw['main_text'].apply(lambda x: re.sub(r'[“”]', '', x))\n",
    "\n",
    "sw['main_text'] = sw['main_text'].apply(lambda x: re.sub(r'\"', '', x))"
   ]
  },
  {
   "cell_type": "code",
   "execution_count": 18,
   "id": "cb990244-9524-4f2c-a301-4f8a43e42f62",
   "metadata": {},
   "outputs": [],
   "source": [
    "#remove unnecessary text in rows\n",
    "un_texts = [\n",
    "    \"ISW does not receive any classified material from any source, uses only publicly available information, and draws extensively on Russian, Ukrainian, and Western reporting and social media as well as commercially available satellite imagery and other geospatial data as the basis for these reports.\",\n",
    "    \"ISW specifically does not receive information from Prigozhin’s deceased mother-in-law, as he (ironically) suggested.\",\n",
    "    \"Note: ISW will report on activities in Kherson Oblast as part of the Southern Axis in this and subsequent updates.\"\n",
    "]\n",
    "\n",
    "for text in un_texts:\n",
    "    sw['main_text'] = sw['main_text'].str.replace(text, '')"
   ]
  },
  {
   "cell_type": "code",
   "execution_count": 19,
   "id": "21320041-69d5-4633-9f06-cfb7ae193f95",
   "metadata": {},
   "outputs": [],
   "source": [
    "#remove extra spaces\n",
    "sw['main_text'] = sw['main_text'].apply(lambda x: re.sub(r'\\s+', ' ', x.strip()).lower())"
   ]
  },
  {
   "cell_type": "code",
   "execution_count": null,
   "id": "d2af9d4b-b71f-44ff-9907-200b5665efe2",
   "metadata": {},
   "outputs": [],
   "source": []
  }
 ],
 "metadata": {
  "kernelspec": {
   "display_name": "Python 3 (ipykernel)",
   "language": "python",
   "name": "python3"
  },
  "language_info": {
   "codemirror_mode": {
    "name": "ipython",
    "version": 3
   },
   "file_extension": ".py",
   "mimetype": "text/x-python",
   "name": "python",
   "nbconvert_exporter": "python",
   "pygments_lexer": "ipython3",
   "version": "3.8.0"
  }
 },
 "nbformat": 4,
 "nbformat_minor": 5
}
